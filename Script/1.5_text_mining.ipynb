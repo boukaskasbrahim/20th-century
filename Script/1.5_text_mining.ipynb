{
 "cells": [
  {
   "cell_type": "markdown",
   "id": "b98f3adf",
   "metadata": {},
   "source": [
    "# Exercise 1.5 — Text Mining\n",
    "\n",
    "In this exercise, we’ll analyze the text data collected from the *Key Events of the 20th Century* Wikipedia page (scraped in Exercise 1.4).  \n",
    "We’ll explore it through tokenization, frequency distributions, and part-of-speech (POS) tagging to uncover key themes and entities.\n"
   ]
  },
  {
   "cell_type": "code",
   "execution_count": null,
   "id": "bb1b9536",
   "metadata": {},
   "outputs": [
    {
     "name": "stdout",
     "output_type": "stream",
     "text": [
      "Data loaded successfully. Text length: 113010\n"
     ]
    },
    {
     "name": "stderr",
     "output_type": "stream",
     "text": [
      "[nltk_data] Downloading package punkt to\n",
      "[nltk_data]     /Users/boukaskasbrahim/nltk_data...\n",
      "[nltk_data]   Package punkt is already up-to-date!\n",
      "[nltk_data] Downloading package stopwords to\n",
      "[nltk_data]     /Users/boukaskasbrahim/nltk_data...\n",
      "[nltk_data]   Package stopwords is already up-to-date!\n",
      "[nltk_data] Downloading package averaged_perceptron_tagger to\n",
      "[nltk_data]     /Users/boukaskasbrahim/nltk_data...\n",
      "[nltk_data]   Package averaged_perceptron_tagger is already up-to-\n",
      "[nltk_data]       date!\n"
     ]
    }
   ],
   "source": [
    "# Importing core libraries\n",
    "import pandas as pd\n",
    "import seaborn as sns\n",
    "import matplotlib.pyplot as plt\n",
    "from textblob import TextBlob\n",
    "import nltk\n",
    "import re\n",
    "from nltk.tokenize import sent_tokenize, word_tokenize\n",
    "from nltk.corpus import stopwords\n",
    "from nltk.probability import FreqDist\n",
    "from collections import Counter\n",
    "\n",
    "# Downloading required NLTK resources\n",
    "nltk.download('punkt')\n",
    "nltk.download('stopwords')\n",
    "nltk.download('averaged_perceptron_tagger')\n",
    "\n",
    "# Loading the text file scraped in Exercise 1.4\n",
    "with open('../Data/20th_century.txt', 'r', encoding='utf-8') as file:\n",
    "    data = file.read().replace('\\n', ' ')\n",
    "\n",
    "print(\"Data loaded successfully. Text length:\", len(data))\n"
   ]
  },
  {
   "cell_type": "code",
   "execution_count": 5,
   "id": "d2238370",
   "metadata": {},
   "outputs": [
    {
     "name": "stderr",
     "output_type": "stream",
     "text": [
      "[nltk_data] Downloading package punkt_tab to\n",
      "[nltk_data]     /Users/boukaskasbrahim/nltk_data...\n",
      "[nltk_data]   Unzipping tokenizers/punkt_tab.zip.\n"
     ]
    },
    {
     "data": {
      "text/plain": [
       "True"
      ]
     },
     "execution_count": 5,
     "metadata": {},
     "output_type": "execute_result"
    }
   ],
   "source": [
    "import nltk\n",
    "nltk.download('punkt_tab')\n"
   ]
  },
  {
   "cell_type": "code",
   "execution_count": null,
   "id": "0fb7cd05",
   "metadata": {},
   "outputs": [
    {
     "name": "stdout",
     "output_type": "stream",
     "text": [
      "Number of sentences: 1619\n",
      "Number of words: 22286\n",
      "First 30 tokens: ['Key', 'events', 'of', 'the', '20th', 'century', '-', 'Wikipedia', 'Jump', 'to', 'content', 'Main', 'menu', 'Main', 'menu', 'move', 'to', 'sidebar', 'hide', 'Navigation', 'Main', 'pageContentsCurrent', 'eventsRandom', 'articleAbout', 'WikipediaContact', 'us', 'Contribute', 'HelpLearn', 'to', 'editCommunity']\n"
     ]
    }
   ],
   "source": [
    "# Sentence tokenization\n",
    "tokenized_sent = sent_tokenize(data)\n",
    "print(f\"Number of sentences: {len(tokenized_sent)}\")\n",
    "\n",
    "# Word tokenization\n",
    "tokenized_word = word_tokenize(data)\n",
    "print(f\"Number of words: {len(tokenized_word)}\")\n",
    "\n",
    "# Preview\n",
    "print(\"First 30 tokens:\", tokenized_word[:30])\n"
   ]
  },
  {
   "cell_type": "code",
   "execution_count": null,
   "id": "7ff53482",
   "metadata": {},
   "outputs": [
    {
     "name": "stdout",
     "output_type": "stream",
     "text": [
      "Total words after cleaning: 9761\n",
      "Sample cleaned tokens: ['key', 'events', 'century', 'wikipedia', 'jump', 'content', 'main', 'menu', 'main', 'menu', 'move', 'sidebar', 'hide', 'navigation', 'main', 'pagecontentscurrent', 'eventsrandom', 'articleabout', 'wikipediacontact', 'us', 'contribute', 'helplearn', 'editcommunity', 'portalrecent', 'changesupload', 'filespecial', 'pages', 'search', 'search', 'appearance']\n"
     ]
    }
   ],
   "source": [
    "# Defining English stopwords\n",
    "stop_words = set(stopwords.words(\"english\"))\n",
    "\n",
    "# Keeping only alphabetic words, lowercase, and removing stopwords\n",
    "filtered_words = [\n",
    "    word.lower() for word in tokenized_word\n",
    "    if word.isalpha() and word.lower() not in stop_words\n",
    "]\n",
    "\n",
    "print(\"Total words after cleaning:\", len(filtered_words))\n",
    "print(\"Sample cleaned tokens:\", filtered_words[:30])\n"
   ]
  },
  {
   "cell_type": "code",
   "execution_count": null,
   "id": "7f8e1416",
   "metadata": {},
   "outputs": [
    {
     "name": "stdout",
     "output_type": "stream",
     "text": [
      "Top 15 most common words:\n",
      "[('december', 225), ('retrieved', 209), ('war', 207), ('world', 115), ('history', 71), ('soviet', 57), ('new', 54), ('first', 53), ('hitler', 51), ('century', 45), ('germany', 41), ('isbn', 40), ('battle', 39), ('nuclear', 38), ('would', 38)]\n"
     ]
    }
   ],
   "source": [
    "# Frequency distribution of cleaned tokens\n",
    "from nltk.probability import FreqDist\n",
    "\n",
    "fdist = FreqDist(filtered_words)\n",
    "\n",
    "# Displaying top 15 most frequent words\n",
    "print(\"Top 15 most common words:\")\n",
    "print(fdist.most_common(15))\n"
   ]
  },
  {
   "cell_type": "code",
   "execution_count": null,
   "id": "e08887bb",
   "metadata": {},
   "outputs": [
    {
     "name": "stdout",
     "output_type": "stream",
     "text": [
      "Top 15 words (after removing citation terms):\n",
      "[('december', 225), ('war', 207), ('world', 115), ('history', 71), ('soviet', 57), ('new', 54), ('first', 53), ('hitler', 51), ('century', 45), ('germany', 41), ('battle', 39), ('nuclear', 38), ('would', 38), ('edit', 35), ('states', 33)]\n"
     ]
    }
   ],
   "source": [
    "# Removing reference-related words often found in Wikipedia citations\n",
    "exclude_terms = {\"retrieved\", \"isbn\", \"pdf\", \"archive\", \"url\", \"original\", \"web\", \"doi\", \"citation\"}\n",
    "\n",
    "filtered_words_refined = [w for w in filtered_words if w not in exclude_terms]\n",
    "\n",
    "fdist_refined = FreqDist(filtered_words_refined)\n",
    "\n",
    "print(\"Top 15 words (after removing citation terms):\")\n",
    "print(fdist_refined.most_common(15))\n"
   ]
  },
  {
   "cell_type": "code",
   "execution_count": 11,
   "id": "421e587f",
   "metadata": {},
   "outputs": [
    {
     "name": "stderr",
     "output_type": "stream",
     "text": [
      "[nltk_data] Downloading package averaged_perceptron_tagger_eng to\n",
      "[nltk_data]     /Users/boukaskasbrahim/nltk_data...\n",
      "[nltk_data]   Unzipping taggers/averaged_perceptron_tagger_eng.zip.\n"
     ]
    },
    {
     "data": {
      "text/plain": [
       "True"
      ]
     },
     "execution_count": 11,
     "metadata": {},
     "output_type": "execute_result"
    }
   ],
   "source": [
    "import nltk\n",
    "nltk.download('averaged_perceptron_tagger_eng')\n"
   ]
  },
  {
   "cell_type": "code",
   "execution_count": null,
   "id": "6eec2e22",
   "metadata": {},
   "outputs": [
    {
     "data": {
      "text/html": [
       "<div>\n",
       "<style scoped>\n",
       "    .dataframe tbody tr th:only-of-type {\n",
       "        vertical-align: middle;\n",
       "    }\n",
       "\n",
       "    .dataframe tbody tr th {\n",
       "        vertical-align: top;\n",
       "    }\n",
       "\n",
       "    .dataframe thead th {\n",
       "        text-align: right;\n",
       "    }\n",
       "</style>\n",
       "<table border=\"1\" class=\"dataframe\">\n",
       "  <thead>\n",
       "    <tr style=\"text-align: right;\">\n",
       "      <th></th>\n",
       "      <th>Word</th>\n",
       "      <th>POS</th>\n",
       "    </tr>\n",
       "  </thead>\n",
       "  <tbody>\n",
       "    <tr>\n",
       "      <th>0</th>\n",
       "      <td>key</td>\n",
       "      <td>JJ</td>\n",
       "    </tr>\n",
       "    <tr>\n",
       "      <th>1</th>\n",
       "      <td>events</td>\n",
       "      <td>NNS</td>\n",
       "    </tr>\n",
       "    <tr>\n",
       "      <th>2</th>\n",
       "      <td>century</td>\n",
       "      <td>NN</td>\n",
       "    </tr>\n",
       "    <tr>\n",
       "      <th>3</th>\n",
       "      <td>wikipedia</td>\n",
       "      <td>VBP</td>\n",
       "    </tr>\n",
       "    <tr>\n",
       "      <th>4</th>\n",
       "      <td>jump</td>\n",
       "      <td>NN</td>\n",
       "    </tr>\n",
       "    <tr>\n",
       "      <th>5</th>\n",
       "      <td>content</td>\n",
       "      <td>NN</td>\n",
       "    </tr>\n",
       "    <tr>\n",
       "      <th>6</th>\n",
       "      <td>main</td>\n",
       "      <td>JJ</td>\n",
       "    </tr>\n",
       "    <tr>\n",
       "      <th>7</th>\n",
       "      <td>menu</td>\n",
       "      <td>NN</td>\n",
       "    </tr>\n",
       "    <tr>\n",
       "      <th>8</th>\n",
       "      <td>main</td>\n",
       "      <td>JJ</td>\n",
       "    </tr>\n",
       "    <tr>\n",
       "      <th>9</th>\n",
       "      <td>menu</td>\n",
       "      <td>NN</td>\n",
       "    </tr>\n",
       "  </tbody>\n",
       "</table>\n",
       "</div>"
      ],
      "text/plain": [
       "        Word  POS\n",
       "0        key   JJ\n",
       "1     events  NNS\n",
       "2    century   NN\n",
       "3  wikipedia  VBP\n",
       "4       jump   NN\n",
       "5    content   NN\n",
       "6       main   JJ\n",
       "7       menu   NN\n",
       "8       main   JJ\n",
       "9       menu   NN"
      ]
     },
     "execution_count": 12,
     "metadata": {},
     "output_type": "execute_result"
    }
   ],
   "source": [
    "# POS tagging\n",
    "text_blob = TextBlob(' '.join(filtered_words_refined))\n",
    "tags_list = text_blob.tags\n",
    "\n",
    "# Creating a dataframe for analysis\n",
    "df_tags = pd.DataFrame(tags_list, columns=['Word', 'POS'])\n",
    "df_tags.head(10)\n"
   ]
  },
  {
   "cell_type": "code",
   "execution_count": null,
   "id": "2fd94df9",
   "metadata": {},
   "outputs": [
    {
     "name": "stderr",
     "output_type": "stream",
     "text": [
      "/var/folders/fh/z04k5mcd3xz6ftdmhk_5j1m00000gn/T/ipykernel_78696/3117170926.py:7: FutureWarning: \n",
      "\n",
      "Passing `palette` without assigning `hue` is deprecated and will be removed in v0.14.0. Assign the `y` variable to `hue` and set `legend=False` for the same effect.\n",
      "\n",
      "  sns.barplot(x='Count', y='POS Tag', data=pos_counts, palette='Blues_d')\n"
     ]
    },
    {
     "data": {
      "image/png": "[encoded data removed]",
      "text/plain": [
       "<Figure size 1000x500 with 1 Axes>"
      ]
     },
     "metadata": {},
     "output_type": "display_data"
    },
    {
     "data": {
      "text/html": [
       "<div>\n",
       "<style scoped>\n",
       "    .dataframe tbody tr th:only-of-type {\n",
       "        vertical-align: middle;\n",
       "    }\n",
       "\n",
       "    .dataframe tbody tr th {\n",
       "        vertical-align: top;\n",
       "    }\n",
       "\n",
       "    .dataframe thead th {\n",
       "        text-align: right;\n",
       "    }\n",
       "</style>\n",
       "<table border=\"1\" class=\"dataframe\">\n",
       "  <thead>\n",
       "    <tr style=\"text-align: right;\">\n",
       "      <th></th>\n",
       "      <th>POS Tag</th>\n",
       "      <th>Count</th>\n",
       "    </tr>\n",
       "  </thead>\n",
       "  <tbody>\n",
       "    <tr>\n",
       "      <th>0</th>\n",
       "      <td>NN</td>\n",
       "      <td>3678</td>\n",
       "    </tr>\n",
       "    <tr>\n",
       "      <th>1</th>\n",
       "      <td>JJ</td>\n",
       "      <td>2120</td>\n",
       "    </tr>\n",
       "    <tr>\n",
       "      <th>2</th>\n",
       "      <td>NNS</td>\n",
       "      <td>1072</td>\n",
       "    </tr>\n",
       "    <tr>\n",
       "      <th>3</th>\n",
       "      <td>VBD</td>\n",
       "      <td>544</td>\n",
       "    </tr>\n",
       "    <tr>\n",
       "      <th>4</th>\n",
       "      <td>RB</td>\n",
       "      <td>402</td>\n",
       "    </tr>\n",
       "    <tr>\n",
       "      <th>5</th>\n",
       "      <td>VBP</td>\n",
       "      <td>399</td>\n",
       "    </tr>\n",
       "    <tr>\n",
       "      <th>6</th>\n",
       "      <td>VBG</td>\n",
       "      <td>274</td>\n",
       "    </tr>\n",
       "    <tr>\n",
       "      <th>7</th>\n",
       "      <td>VBN</td>\n",
       "      <td>229</td>\n",
       "    </tr>\n",
       "    <tr>\n",
       "      <th>8</th>\n",
       "      <td>IN</td>\n",
       "      <td>174</td>\n",
       "    </tr>\n",
       "    <tr>\n",
       "      <th>9</th>\n",
       "      <td>VB</td>\n",
       "      <td>130</td>\n",
       "    </tr>\n",
       "  </tbody>\n",
       "</table>\n",
       "</div>"
      ],
      "text/plain": [
       "  POS Tag  Count\n",
       "0      NN   3678\n",
       "1      JJ   2120\n",
       "2     NNS   1072\n",
       "3     VBD    544\n",
       "4      RB    402\n",
       "5     VBP    399\n",
       "6     VBG    274\n",
       "7     VBN    229\n",
       "8      IN    174\n",
       "9      VB    130"
      ]
     },
     "execution_count": 13,
     "metadata": {},
     "output_type": "execute_result"
    }
   ],
   "source": [
    "# Counting occurrences of each POS tag\n",
    "pos_counts = df_tags['POS'].value_counts().nlargest(10).reset_index()\n",
    "pos_counts.columns = ['POS Tag', 'Count']\n",
    "\n",
    "# Ploting the top 10 POS tags\n",
    "plt.figure(figsize=(10,5))\n",
    "sns.barplot(x='Count', y='POS Tag', data=pos_counts, palette='Blues_d')\n",
    "plt.title('Top 10 POS (Part-of-Speech) Tags in the 20th Century Text')\n",
    "plt.show()\n",
    "\n",
    "pos_counts\n"
   ]
  },
  {
   "cell_type": "code",
   "execution_count": null,
   "id": "ceeae0b3",
   "metadata": {},
   "outputs": [
    {
     "name": "stderr",
     "output_type": "stream",
     "text": [
      "/var/folders/fh/z04k5mcd3xz6ftdmhk_5j1m00000gn/T/ipykernel_78696/766511559.py:10: FutureWarning: \n",
      "\n",
      "Passing `palette` without assigning `hue` is deprecated and will be removed in v0.14.0. Assign the `y` variable to `hue` and set `legend=False` for the same effect.\n",
      "\n",
      "  sns.barplot(x=top15.values, y=top15.index, palette='crest')\n"
     ]
    },
    {
     "data": {
      "image/png": "[encoded data removed]",
      "text/plain": [
       "<Figure size 1000x500 with 1 Axes>"
      ]
     },
     "metadata": {},
     "output_type": "display_data"
    },
    {
     "name": "stderr",
     "output_type": "stream",
     "text": [
      "/var/folders/fh/z04k5mcd3xz6ftdmhk_5j1m00000gn/T/ipykernel_78696/766511559.py:10: FutureWarning: \n",
      "\n",
      "Passing `palette` without assigning `hue` is deprecated and will be removed in v0.14.0. Assign the `y` variable to `hue` and set `legend=False` for the same effect.\n",
      "\n",
      "  sns.barplot(x=top15.values, y=top15.index, palette='crest')\n"
     ]
    },
    {
     "data": {
      "image/png": "[encoded data removed]",
      "text/plain": [
       "<Figure size 1000x500 with 1 Axes>"
      ]
     },
     "metadata": {},
     "output_type": "display_data"
    },
    {
     "name": "stderr",
     "output_type": "stream",
     "text": [
      "/var/folders/fh/z04k5mcd3xz6ftdmhk_5j1m00000gn/T/ipykernel_78696/766511559.py:10: FutureWarning: \n",
      "\n",
      "Passing `palette` without assigning `hue` is deprecated and will be removed in v0.14.0. Assign the `y` variable to `hue` and set `legend=False` for the same effect.\n",
      "\n",
      "  sns.barplot(x=top15.values, y=top15.index, palette='crest')\n"
     ]
    },
    {
     "data": {
      "image/png": "[encoded data removed]",
      "text/plain": [
       "<Figure size 1000x500 with 1 Axes>"
      ]
     },
     "metadata": {},
     "output_type": "display_data"
    }
   ],
   "source": [
    "# Separating by POS type\n",
    "nouns = df_tags[df_tags['POS'].isin(['NN', 'NNS', 'NNP', 'NNPS'])]\n",
    "verbs = df_tags[df_tags['POS'].str.startswith('VB')]\n",
    "adjs = df_tags[df_tags['POS'].str.startswith('JJ')]\n",
    "\n",
    "# Defining a function for plotting top words\n",
    "def plot_top(df, title):\n",
    "    top15 = df['Word'].value_counts().nlargest(15)\n",
    "    plt.figure(figsize=(10,5))\n",
    "    sns.barplot(x=top15.values, y=top15.index, palette='crest')\n",
    "    plt.title(title)\n",
    "    plt.show()\n",
    "\n",
    "# Ploting top 15 nouns, verbs, and adjectives\n",
    "plot_top(nouns, \"Top 15 Nouns\")\n",
    "plot_top(verbs, \"Top 15 Verbs\")\n",
    "plot_top(adjs, \"Top 15 Adjectives\")\n"
   ]
  },
  {
   "cell_type": "markdown",
   "id": "c0fe044f",
   "metadata": {},
   "source": [
    "### POS Analysis Summary\n",
    "\n",
    "The text is dominated by **nouns**, showing a strong focus on entities such as countries, leaders, and events.  \n",
    "Frequent nouns like *war*, *germany*, and *soviet* confirm the text’s historical and geopolitical focus.  \n",
    "Verbs highlight key actions (*began*, *declared*, *ended*), while adjectives describe impact and scale (*major*, *global*, *political*).  \n",
    "This reinforces the article’s nature as a factual, event-driven historical summary of the 20th century.\n"
   ]
  },
  {
   "cell_type": "code",
   "execution_count": 6,
   "id": "58d2c2da",
   "metadata": {},
   "outputs": [],
   "source": [
    "# Load the text again\n",
    "with open('../Data/20th_century.txt', 'r', encoding='utf-8') as file:\n",
    "    data = file.read().replace('\\n', ' ')\n"
   ]
  },
  {
   "cell_type": "code",
   "execution_count": 7,
   "id": "9827c778",
   "metadata": {},
   "outputs": [
    {
     "name": "stdout",
     "output_type": "stream",
     "text": [
      "Key events of the th century Main page Current eventsRandom About Contribute Historic events in the th century Historic events in the th century subsection World at the beginning of the century The war to end all wars World War I Spanish flu Russian Revolution and communism Between the wars Economic depression The rise of dictatorship Global war World War II The war in Europe Blitzkrieg Operation Barbarossa Turning tides Operation Overlord Final days The war in the Pacific Background Japanese Ex\n"
     ]
    }
   ],
   "source": [
    "import re\n",
    "\n",
    "clean_text = data\n",
    "patterns_to_remove = [\n",
    "    r'Jump to content', r'Main menu', r'Navigation', r'Create account', r'Log in', r'Donate',\n",
    "    r'Search', r'Personal tools', r'Appearance', r'Wikipedia', r'Contact us', r'Help',\n",
    "    r'Learn to edit', r'Community portal', r'Recent changes', r'Upload file', r'Special pages',\n",
    "    r'Pages for', r'logged out editors', r'learn more', r'move to sidebar hide', r'ContributionsTalk',\n",
    "    r'Toggle', r'Top', r'Tools', r'Actions', r'URLDownload', r'Download', r'Article', r'Portal',\n",
    "    r'View history', r'Talk', r'Contents', r'print export', r'Languages', r'Page information'\n",
    "]\n",
    "\n",
    "for p in patterns_to_remove:\n",
    "    clean_text = re.sub(p, ' ', clean_text, flags=re.IGNORECASE)\n",
    "\n",
    "clean_text = re.sub(r'\\[.*?\\]', ' ', clean_text)\n",
    "clean_text = re.sub(r'[^A-Za-z\\s]', ' ', clean_text)\n",
    "clean_text = re.sub(r'\\s+', ' ', clean_text).strip()\n",
    "\n",
    "print(clean_text[:500])\n"
   ]
  },
  {
   "cell_type": "code",
   "execution_count": 8,
   "id": "5278ef65",
   "metadata": {},
   "outputs": [
    {
     "name": "stdout",
     "output_type": "stream",
     "text": [
      "Sample countries: ['Sarajevo', 'Sarajevo', 'the Russian Empire', 'the German Empire', 'Russia', 'Germany', 'Russia', 'Germany', 'the Ottoman Empire', 'Ukraine', 'Germany', 'Germany', 'Yugoslavia', 'Czechoslovakia', 'Austro Hungarian Empire', 'the Soviet Union', 'the Soviet Union', 'Germany', 'Italy', 'Germany']\n",
      "Total GPE mentions: 379\n"
     ]
    }
   ],
   "source": [
    "import spacy\n",
    "\n",
    "# Load SpaCy English model\n",
    "nlp = spacy.load(\"en_core_web_sm\")\n",
    "\n",
    "# Apply NER to the cleaned text\n",
    "doc = nlp(clean_text)\n",
    "\n",
    "# Extract all geopolitical entities\n",
    "countries = [ent.text.strip() for ent in doc.ents if ent.label_ == \"GPE\"]\n",
    "\n",
    "print(\"Sample countries:\", countries[:20])\n",
    "print(\"Total GPE mentions:\", len(countries))\n"
   ]
  },
  {
   "cell_type": "code",
   "execution_count": 9,
   "id": "2ec3b413",
   "metadata": {},
   "outputs": [
    {
     "name": "stdout",
     "output_type": "stream",
     "text": [
      "             Country  Count\n",
      "0              Japan     27\n",
      "1            Germany     26\n",
      "2   the Soviet Union     23\n",
      "3            Britain     13\n",
      "4  the United States     12\n",
      "5             Poland     11\n",
      "6             France     11\n",
      "7              Italy      9\n",
      "8             Berlin      8\n",
      "9              India      8\n",
      "Unique country names detected: 141\n"
     ]
    }
   ],
   "source": [
    "from collections import Counter\n",
    "import pandas as pd\n",
    "\n",
    "# Count occurrences of each geopolitical entity\n",
    "country_counts = Counter(countries)\n",
    "\n",
    "# Convert to DataFrame\n",
    "df_countries = pd.DataFrame(country_counts.items(), columns=['Country', 'Count'])\n",
    "df_countries = df_countries.sort_values(by='Count', ascending=False).reset_index(drop=True)\n",
    "\n",
    "print(df_countries.head(10))\n",
    "print(\"Unique country names detected:\", len(df_countries))\n"
   ]
  },
  {
   "cell_type": "code",
   "execution_count": 10,
   "id": "745ab7ec",
   "metadata": {},
   "outputs": [
    {
     "name": "stderr",
     "output_type": "stream",
     "text": [
      "/var/folders/fh/z04k5mcd3xz6ftdmhk_5j1m00000gn/T/ipykernel_94529/229588245.py:5: FutureWarning: \n",
      "\n",
      "Passing `palette` without assigning `hue` is deprecated and will be removed in v0.14.0. Assign the `y` variable to `hue` and set `legend=False` for the same effect.\n",
      "\n",
      "  sns.barplot(\n"
     ]
    },
    {
     "data": {
      "image/png": "[encoded data removed]",
      "text/plain": [
       "<Figure size 1000x600 with 1 Axes>"
      ]
     },
     "metadata": {},
     "output_type": "display_data"
    }
   ],
   "source": [
    "import seaborn as sns\n",
    "import matplotlib.pyplot as plt\n",
    "\n",
    "plt.figure(figsize=(10,6))\n",
    "sns.barplot(\n",
    "    data=df_countries.head(15),\n",
    "    x='Count',\n",
    "    y='Country',\n",
    "    palette='crest'\n",
    ")\n",
    "plt.title(\"Top 15 Most Mentioned Countries in 20th-Century Text\", fontsize=14, weight='bold')\n",
    "plt.xlabel(\"Number of Mentions\")\n",
    "plt.ylabel(\"Country\")\n",
    "plt.tight_layout()\n",
    "plt.savefig('../Img/Screenshots/country_mentions_barplot.png', dpi=300, bbox_inches='tight')\n",
    "plt.show()\n"
   ]
  },
  {
   "cell_type": "code",
   "execution_count": 11,
   "id": "26135171",
   "metadata": {},
   "outputs": [
    {
     "name": "stdout",
     "output_type": "stream",
     "text": [
      "Collecting plotly\n",
      "  Using cached plotly-6.3.1-py3-none-any.whl.metadata (8.5 kB)\n",
      "Collecting pycountry\n",
      "  Downloading pycountry-24.6.1-py3-none-any.whl.metadata (12 kB)\n",
      "Collecting narwhals>=1.15.1 (from plotly)\n",
      "  Using cached narwhals-2.8.0-py3-none-any.whl.metadata (11 kB)\n",
      "Requirement already satisfied: packaging in /opt/miniconda3/envs/20th_century/lib/python3.13/site-packages (from plotly) (25.0)\n",
      "Using cached plotly-6.3.1-py3-none-any.whl (9.8 MB)\n",
      "Downloading pycountry-24.6.1-py3-none-any.whl (6.3 MB)\n",
      "\u001b[2K   \u001b[90m━━━━━━━━━━━━━━━━━━━━━━━━━━━━━━━━━━━━━━━━\u001b[0m \u001b[32m6.3/6.3 MB\u001b[0m \u001b[31m33.6 MB/s\u001b[0m  \u001b[33m0:00:00\u001b[0m\n",
      "\u001b[?25hUsing cached narwhals-2.8.0-py3-none-any.whl (415 kB)\n",
      "Installing collected packages: pycountry, narwhals, plotly\n",
      "\u001b[2K   \u001b[90m━━━━━━━━━━━━━━━━━━━━━━━━━━━━━━━━━━━━━━━━\u001b[0m \u001b[32m3/3\u001b[0m [plotly]2m2/3\u001b[0m [plotly]s]\n",
      "\u001b[1A\u001b[2KSuccessfully installed narwhals-2.8.0 plotly-6.3.1 pycountry-24.6.1\n",
      "Note: you may need to restart the kernel to use updated packages.\n"
     ]
    }
   ],
   "source": [
    "pip install plotly pycountry\n"
   ]
  },
  {
   "cell_type": "code",
   "execution_count": null,
   "id": "496ad165",
   "metadata": {},
   "outputs": [
    {
     "data": {
      "application/vnd.plotly.v1+json": {
       "config": {
        "plotlyServerURL": "https://plot.ly"
       },
       "data": [
        {
         "coloraxis": "coloraxis",
         "geo": "geo",
         "hovertemplate": "<b>%{hovertext}</b><br><br>iso_alpha=%{location}<br>Count=%{z}<extra></extra>",
         "hovertext": [
          "Japan",
          "Germany",
          "Poland",
          "France",
          "Italy",
          "India",
          "US",
          "China",
          "Vietnam",
          "North Korea",
          "Philippines",
          "Finland",
          "Iran",
          "Greece",
          "Libya",
          "Norway",
          "Pakistan",
          "Romania",
          "Cuba",
          "United States",
          "South Korea",
          "Israel",
          "Austria",
          "Ukraine",
          "Denmark",
          "Latvia",
          "Albania",
          "Lithuania",
          "Egypt",
          "Seychelles",
          "Ghana",
          "Kenya",
          "Guinea",
          "Afghanistan",
          "Canada",
          "Rwanda",
          "Cambodia",
          "South Africa",
          "Mongolia",
          "Hungary",
          "Bulgaria",
          "Belarus",
          "Algeria",
          "Morocco",
          "Iraq",
          "Belgium",
          "Luxembourg",
          "Netherlands",
          "Sweden",
          "Estonia",
          "Spain",
          "USA",
          "Guam",
          "Solomon Islands",
          "Australia",
          "Hong Kong",
          "Thailand"
         ],
         "locations": [
          "JPN",
          "DEU",
          "POL",
          "FRA",
          "ITA",
          "IND",
          "USA",
          "CHN",
          "VNM",
          "PRK",
          "PHL",
          "FIN",
          "IRN",
          "GRC",
          "LBY",
          "NOR",
          "PAK",
          "ROU",
          "CUB",
          "USA",
          "KOR",
          "ISR",
          "AUT",
          "UKR",
          "DNK",
          "LVA",
          "ALB",
          "LTU",
          "EGY",
          "SYC",
          "GHA",
          "KEN",
          "GIN",
          "AFG",
          "CAN",
          "RWA",
          "KHM",
          "ZAF",
          "MNG",
          "HUN",
          "BGR",
          "BLR",
          "DZA",
          "MAR",
          "IRQ",
          "BEL",
          "LUX",
          "NLD",
          "SWE",
          "EST",
          "ESP",
          "USA",
          "GUM",
          "SLB",
          "AUS",
          "HKG",
          "THA"
         ],
         "name": "",
         "type": "choropleth",
         "z": {
          "bdata": "GxoLCwkIBwYFBQQEBAQDAwMCAgICAgICAgICAgIBAQEBAQEBAQEBAQEBAQEBAQEBAQEBAQEBAQEB",
          "dtype": "i1"
         }
        }
       ],
       "layout": {
        "coloraxis": {
         "colorbar": {
          "title": {
           "text": "Count"
          }
         },
         "colorscale": [
          [
           0,
           "rgb(247,251,255)"
          ],
          [
           0.125,
           "rgb(222,235,247)"
          ],
          [
           0.25,
           "rgb(198,219,239)"
          ],
          [
           0.375,
           "rgb(158,202,225)"
          ],
          [
           0.5,
           "rgb(107,174,214)"
          ],
          [
           0.625,
           "rgb(66,146,198)"
          ],
          [
           0.75,
           "rgb(33,113,181)"
          ],
          [
           0.875,
           "rgb(8,81,156)"
          ],
          [
           1,
           "rgb(8,48,107)"
          ]
         ]
        },
        "geo": {
         "center": {},
         "domain": {
          "x": [
           0,
           1
          ],
          "y": [
           0,
           1
          ]
         }
        },
        "legend": {
         "tracegroupgap": 0
        },
        "template": {
         "data": {
          "bar": [
           {
            "error_x": {
             "color": "#2a3f5f"
            },
            "error_y": {
             "color": "#2a3f5f"
            },
            "marker": {
             "line": {
              "color": "#E5ECF6",
              "width": 0.5
             },
             "pattern": {
              "fillmode": "overlay",
              "size": 10,
              "solidity": 0.2
             }
            },
            "type": "bar"
           }
          ],
          "barpolar": [
           {
            "marker": {
             "line": {
              "color": "#E5ECF6",
              "width": 0.5
             },
             "pattern": {
              "fillmode": "overlay",
              "size": 10,
              "solidity": 0.2
             }
            },
            "type": "barpolar"
           }
          ],
          "carpet": [
           {
            "aaxis": {
             "endlinecolor": "#2a3f5f",
             "gridcolor": "white",
             "linecolor": "white",
             "minorgridcolor": "white",
             "startlinecolor": "#2a3f5f"
            },
            "baxis": {
             "endlinecolor": "#2a3f5f",
             "gridcolor": "white",
             "linecolor": "white",
             "minorgridcolor": "white",
             "startlinecolor": "#2a3f5f"
            },
            "type": "carpet"
           }
          ],
          "choropleth": [
           {
            "colorbar": {
             "outlinewidth": 0,
             "ticks": ""
            },
            "type": "choropleth"
           }
          ],
          "contour": [
           {
            "colorbar": {
             "outlinewidth": 0,
             "ticks": ""
            },
            "colorscale": [
             [
              0,
              "#0d0887"
             ],
             [
              0.1111111111111111,
              "#46039f"
             ],
             [
              0.2222222222222222,
              "#7201a8"
             ],
             [
              0.3333333333333333,
              "#9c179e"
             ],
             [
              0.4444444444444444,
              "#bd3786"
             ],
             [
              0.5555555555555556,
              "#d8576b"
             ],
             [
              0.6666666666666666,
              "#ed7953"
             ],
             [
              0.7777777777777778,
              "#fb9f3a"
             ],
             [
              0.8888888888888888,
              "#fdca26"
             ],
             [
              1,
              "#f0f921"
             ]
            ],
            "type": "contour"
           }
          ],
          "contourcarpet": [
           {
            "colorbar": {
             "outlinewidth": 0,
             "ticks": ""
            },
            "type": "contourcarpet"
           }
          ],
          "heatmap": [
           {
            "colorbar": {
             "outlinewidth": 0,
             "ticks": ""
            },
            "colorscale": [
             [
              0,
              "#0d0887"
             ],
             [
              0.1111111111111111,
              "#46039f"
             ],
             [
              0.2222222222222222,
              "#7201a8"
             ],
             [
              0.3333333333333333,
              "#9c179e"
             ],
             [
              0.4444444444444444,
              "#bd3786"
             ],
             [
              0.5555555555555556,
              "#d8576b"
             ],
             [
              0.6666666666666666,
              "#ed7953"
             ],
             [
              0.7777777777777778,
              "#fb9f3a"
             ],
             [
              0.8888888888888888,
              "#fdca26"
             ],
             [
              1,
              "#f0f921"
             ]
            ],
            "type": "heatmap"
           }
          ],
          "histogram": [
           {
            "marker": {
             "pattern": {
              "fillmode": "overlay",
              "size": 10,
              "solidity": 0.2
             }
            },
            "type": "histogram"
           }
          ],
          "histogram2d": [
           {
            "colorbar": {
             "outlinewidth": 0,
             "ticks": ""
            },
            "colorscale": [
             [
              0,
              "#0d0887"
             ],
             [
              0.1111111111111111,
              "#46039f"
             ],
             [
              0.2222222222222222,
              "#7201a8"
             ],
             [
              0.3333333333333333,
              "#9c179e"
             ],
             [
              0.4444444444444444,
              "#bd3786"
             ],
             [
              0.5555555555555556,
              "#d8576b"
             ],
             [
              0.6666666666666666,
              "#ed7953"
             ],
             [
              0.7777777777777778,
              "#fb9f3a"
             ],
             [
              0.8888888888888888,
              "#fdca26"
             ],
             [
              1,
              "#f0f921"
             ]
            ],
            "type": "histogram2d"
           }
          ],
          "histogram2dcontour": [
           {
            "colorbar": {
             "outlinewidth": 0,
             "ticks": ""
            },
            "colorscale": [
             [
              0,
              "#0d0887"
             ],
             [
              0.1111111111111111,
              "#46039f"
             ],
             [
              0.2222222222222222,
              "#7201a8"
             ],
             [
              0.3333333333333333,
              "#9c179e"
             ],
             [
              0.4444444444444444,
              "#bd3786"
             ],
             [
              0.5555555555555556,
              "#d8576b"
             ],
             [
              0.6666666666666666,
              "#ed7953"
             ],
             [
              0.7777777777777778,
              "#fb9f3a"
             ],
             [
              0.8888888888888888,
              "#fdca26"
             ],
             [
              1,
              "#f0f921"
             ]
            ],
            "type": "histogram2dcontour"
           }
          ],
          "mesh3d": [
           {
            "colorbar": {
             "outlinewidth": 0,
             "ticks": ""
            },
            "type": "mesh3d"
           }
          ],
          "parcoords": [
           {
            "line": {
             "colorbar": {
              "outlinewidth": 0,
              "ticks": ""
             }
            },
            "type": "parcoords"
           }
          ],
          "pie": [
           {
            "automargin": true,
            "type": "pie"
           }
          ],
          "scatter": [
           {
            "fillpattern": {
             "fillmode": "overlay",
             "size": 10,
             "solidity": 0.2
            },
            "type": "scatter"
           }
          ],
          "scatter3d": [
           {
            "line": {
             "colorbar": {
              "outlinewidth": 0,
              "ticks": ""
             }
            },
            "marker": {
             "colorbar": {
              "outlinewidth": 0,
              "ticks": ""
             }
            },
            "type": "scatter3d"
           }
          ],
          "scattercarpet": [
           {
            "marker": {
             "colorbar": {
              "outlinewidth": 0,
              "ticks": ""
             }
            },
            "type": "scattercarpet"
           }
          ],
          "scattergeo": [
           {
            "marker": {
             "colorbar": {
              "outlinewidth": 0,
              "ticks": ""
             }
            },
            "type": "scattergeo"
           }
          ],
          "scattergl": [
           {
            "marker": {
             "colorbar": {
              "outlinewidth": 0,
              "ticks": ""
             }
            },
            "type": "scattergl"
           }
          ],
          "scattermap": [
           {
            "marker": {
             "colorbar": {
              "outlinewidth": 0,
              "ticks": ""
             }
            },
            "type": "scattermap"
           }
          ],
          "scattermapbox": [
           {
            "marker": {
             "colorbar": {
              "outlinewidth": 0,
              "ticks": ""
             }
            },
            "type": "scattermapbox"
           }
          ],
          "scatterpolar": [
           {
            "marker": {
             "colorbar": {
              "outlinewidth": 0,
              "ticks": ""
             }
            },
            "type": "scatterpolar"
           }
          ],
          "scatterpolargl": [
           {
            "marker": {
             "colorbar": {
              "outlinewidth": 0,
              "ticks": ""
             }
            },
            "type": "scatterpolargl"
           }
          ],
          "scatterternary": [
           {
            "marker": {
             "colorbar": {
              "outlinewidth": 0,
              "ticks": ""
             }
            },
            "type": "scatterternary"
           }
          ],
          "surface": [
           {
            "colorbar": {
             "outlinewidth": 0,
             "ticks": ""
            },
            "colorscale": [
             [
              0,
              "#0d0887"
             ],
             [
              0.1111111111111111,
              "#46039f"
             ],
             [
              0.2222222222222222,
              "#7201a8"
             ],
             [
              0.3333333333333333,
              "#9c179e"
             ],
             [
              0.4444444444444444,
              "#bd3786"
             ],
             [
              0.5555555555555556,
              "#d8576b"
             ],
             [
              0.6666666666666666,
              "#ed7953"
             ],
             [
              0.7777777777777778,
              "#fb9f3a"
             ],
             [
              0.8888888888888888,
              "#fdca26"
             ],
             [
              1,
              "#f0f921"
             ]
            ],
            "type": "surface"
           }
          ],
          "table": [
           {
            "cells": {
             "fill": {
              "color": "#EBF0F8"
             },
             "line": {
              "color": "white"
             }
            },
            "header": {
             "fill": {
              "color": "#C8D4E3"
             },
             "line": {
              "color": "white"
             }
            },
            "type": "table"
           }
          ]
         },
         "layout": {
          "annotationdefaults": {
           "arrowcolor": "#2a3f5f",
           "arrowhead": 0,
           "arrowwidth": 1
          },
          "autotypenumbers": "strict",
          "coloraxis": {
           "colorbar": {
            "outlinewidth": 0,
            "ticks": ""
           }
          },
          "colorscale": {
           "diverging": [
            [
             0,
             "#8e0152"
            ],
            [
             0.1,
             "#c51b7d"
            ],
            [
             0.2,
             "#de77ae"
            ],
            [
             0.3,
             "#f1b6da"
            ],
            [
             0.4,
             "#fde0ef"
            ],
            [
             0.5,
             "#f7f7f7"
            ],
            [
             0.6,
             "#e6f5d0"
            ],
            [
             0.7,
             "#b8e186"
            ],
            [
             0.8,
             "#7fbc41"
            ],
            [
             0.9,
             "#4d9221"
            ],
            [
             1,
             "#276419"
            ]
           ],
           "sequential": [
            [
             0,
             "#0d0887"
            ],
            [
             0.1111111111111111,
             "#46039f"
            ],
            [
             0.2222222222222222,
             "#7201a8"
            ],
            [
             0.3333333333333333,
             "#9c179e"
            ],
            [
             0.4444444444444444,
             "#bd3786"
            ],
            [
             0.5555555555555556,
             "#d8576b"
            ],
            [
             0.6666666666666666,
             "#ed7953"
            ],
            [
             0.7777777777777778,
             "#fb9f3a"
            ],
            [
             0.8888888888888888,
             "#fdca26"
            ],
            [
             1,
             "#f0f921"
            ]
           ],
           "sequentialminus": [
            [
             0,
             "#0d0887"
            ],
            [
             0.1111111111111111,
             "#46039f"
            ],
            [
             0.2222222222222222,
             "#7201a8"
            ],
            [
             0.3333333333333333,
             "#9c179e"
            ],
            [
             0.4444444444444444,
             "#bd3786"
            ],
            [
             0.5555555555555556,
             "#d8576b"
            ],
            [
             0.6666666666666666,
             "#ed7953"
            ],
            [
             0.7777777777777778,
             "#fb9f3a"
            ],
            [
             0.8888888888888888,
             "#fdca26"
            ],
            [
             1,
             "#f0f921"
            ]
           ]
          },
          "colorway": [
           "#636efa",
           "#EF553B",
           "#00cc96",
           "#ab63fa",
           "#FFA15A",
           "#19d3f3",
           "#FF6692",
           "#B6E880",
           "#FF97FF",
           "#FECB52"
          ],
          "font": {
           "color": "#2a3f5f"
          },
          "geo": {
           "bgcolor": "white",
           "lakecolor": "white",
           "landcolor": "#E5ECF6",
           "showlakes": true,
           "showland": true,
           "subunitcolor": "white"
          },
          "hoverlabel": {
           "align": "left"
          },
          "hovermode": "closest",
          "mapbox": {
           "style": "light"
          },
          "paper_bgcolor": "white",
          "plot_bgcolor": "#E5ECF6",
          "polar": {
           "angularaxis": {
            "gridcolor": "white",
            "linecolor": "white",
            "ticks": ""
           },
           "bgcolor": "#E5ECF6",
           "radialaxis": {
            "gridcolor": "white",
            "linecolor": "white",
            "ticks": ""
           }
          },
          "scene": {
           "xaxis": {
            "backgroundcolor": "#E5ECF6",
            "gridcolor": "white",
            "gridwidth": 2,
            "linecolor": "white",
            "showbackground": true,
            "ticks": "",
            "zerolinecolor": "white"
           },
           "yaxis": {
            "backgroundcolor": "#E5ECF6",
            "gridcolor": "white",
            "gridwidth": 2,
            "linecolor": "white",
            "showbackground": true,
            "ticks": "",
            "zerolinecolor": "white"
           },
           "zaxis": {
            "backgroundcolor": "#E5ECF6",
            "gridcolor": "white",
            "gridwidth": 2,
            "linecolor": "white",
            "showbackground": true,
            "ticks": "",
            "zerolinecolor": "white"
           }
          },
          "shapedefaults": {
           "line": {
            "color": "#2a3f5f"
           }
          },
          "ternary": {
           "aaxis": {
            "gridcolor": "white",
            "linecolor": "white",
            "ticks": ""
           },
           "baxis": {
            "gridcolor": "white",
            "linecolor": "white",
            "ticks": ""
           },
           "bgcolor": "#E5ECF6",
           "caxis": {
            "gridcolor": "white",
            "linecolor": "white",
            "ticks": ""
           }
          },
          "title": {
           "x": 0.05
          },
          "xaxis": {
           "automargin": true,
           "gridcolor": "white",
           "linecolor": "white",
           "ticks": "",
           "title": {
            "standoff": 15
           },
           "zerolinecolor": "white",
           "zerolinewidth": 2
          },
          "yaxis": {
           "automargin": true,
           "gridcolor": "white",
           "linecolor": "white",
           "ticks": "",
           "title": {
            "standoff": 15
           },
           "zerolinecolor": "white",
           "zerolinewidth": 2
          }
         }
        },
        "title": {
         "text": "Country Mentions in 20th-Century Wikipedia Text"
        }
       }
      }
     },
     "metadata": {},
     "output_type": "display_data"
    }
   ],
   "source": [
    "import plotly.express as px\n",
    "import pycountry\n",
    "\n",
    "# Match country names to ISO codes\n",
    "def get_country_code(name):\n",
    "    try:\n",
    "        return pycountry.countries.lookup(name).alpha_3\n",
    "    except:\n",
    "        return None\n",
    "\n",
    "df_countries['iso_alpha'] = df_countries['Country'].apply(get_country_code)\n",
    "df_map = df_countries.dropna(subset=['iso_alpha'])\n",
    "\n",
    "fig = px.choropleth(\n",
    "    df_map,\n",
    "    locations=\"iso_alpha\",\n",
    "    color=\"Count\",\n",
    "    hover_name=\"Country\",\n",
    "    color_continuous_scale=\"Blues\",\n",
    "    title=\"Country Mentions in 20th-Century Wikipedia Text\"\n",
    ")\n",
    "fig.show()\n"
   ]
  },
  {
   "cell_type": "code",
   "execution_count": null,
   "id": "d941f12e",
   "metadata": {},
   "outputs": [
    {
     "name": "stdout",
     "output_type": "stream",
     "text": [
      "\u001b[31mERROR: Could not open requirements file: [Errno 2] No such file or directory: 'Requirements/requirements_1.5.txt'\u001b[0m\u001b[31m\n",
      "\u001b[0mNote: you may need to restart the kernel to use updated packages.\n"
     ]
    }
   ],
   "source": []
  }
 ],
 "metadata": {
  "kernelspec": {
   "display_name": "20th_century",
   "language": "python",
   "name": "python3"
  },
  "language_info": {
   "codemirror_mode": {
    "name": "ipython",
    "version": 3
   },
   "file_extension": ".py",
   "mimetype": "text/x-python",
   "name": "python",
   "nbconvert_exporter": "python",
   "pygments_lexer": "ipython3",
   "version": "3.13.7"
  }
 },
 "nbformat": 4,
 "nbformat_minor": 5
}
