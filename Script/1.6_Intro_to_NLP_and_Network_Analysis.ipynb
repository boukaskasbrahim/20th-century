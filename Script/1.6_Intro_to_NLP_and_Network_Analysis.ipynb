{
 "cells": [
  {
   "cell_type": "markdown",
   "id": "b53e786e",
   "metadata": {},
   "source": [
    "# Exercise 1.6 — Intro to NLP and Network Analysis\n",
    "In this exercise, we’ll use Named Entity Recognition (NER) to extract country mentions \n",
    "from the *Key Events of the 20th Century* Wikipedia text, and create a relationships \n",
    "dataframe showing which countries appear together. This will prepare the data for \n",
    "network visualization in Exercise 1.7.\n"
   ]
  },
  {
   "cell_type": "code",
   "execution_count": null,
   "id": "7ba271c4",
   "metadata": {},
   "outputs": [],
   "source": [
    "import pandas as pd\n",
    "import numpy as np\n",
    "import spacy\n",
    "from spacy import displacy\n",
    "import networkx as nx\n",
    "import os\n",
    "import matplotlib.pyplot as plt\n",
    "import re\n",
    "\n",
    "# Load SpaCy English model\n",
    "nlp = spacy.load(\"en_core_web_sm\")\n"
   ]
  },
  {
   "cell_type": "code",
   "execution_count": 1,
   "id": "eab75fda",
   "metadata": {},
   "outputs": [
    {
     "name": "stdout",
     "output_type": "stream",
     "text": [
      "Text length: 113010\n"
     ]
    }
   ],
   "source": [
    "# Load the 20th-century text\n",
    "with open('../Data/20th_century.txt', 'r', encoding='utf-8', errors='ignore') as file:\n",
    "    data = file.read().replace('\\n', ' ')\n",
    "\n",
    "print(\"Text length:\", len(data))\n"
   ]
  },
  {
   "cell_type": "code",
   "execution_count": 2,
   "id": "3dcf160c",
   "metadata": {},
   "outputs": [
    {
     "name": "stdout",
     "output_type": "stream",
     "text": [
      "    Key events of the 20th century - Wikipedia                           Jump to content        Main menu      Main menu move to sidebar hide    \t\tNavigation \t   Main pageContentsCurrent eventsRandom articleAbout WikipediaContact us      \t\tContribute \t   HelpLearn to editCommunity portalRecent changesUpload fileSpecial pages                    Search            Search                       Appearance                 Donate  Create account  Log in         Personal tools      Donate Create account Log in      \t\tPages for logged out editors learn more    ContributionsTalk                             Contents move to sidebar hide     (Top)      1 Historic events in the 20th century     Toggle Historic events in the 20th century subsection      1.1 World at the beginning of the century       1.1.1 \"The war to end all wars\": World War I (1914–1918)           1.2 Spanish flu       1.2.1 Russian Revolution and communism           1.3 Between the wars       1.3.1 Economic depression         1.3\n"
     ]
    }
   ],
   "source": [
    "# Quick inspection for unwanted symbols\n",
    "print(data[:1000])\n"
   ]
  },
  {
   "cell_type": "code",
   "execution_count": 3,
   "id": "e4062033",
   "metadata": {},
   "outputs": [
    {
     "name": "stdout",
     "output_type": "stream",
     "text": [
      "Key events of the th century Wikipedia move to sidebar hide Main pageContentsCurrent eventsRandom articleAbout WikipediaContact us Contribute HelpLearn to editCommunity portalRecent changesUpload fileSpecial pages Appearance Pages for logged out editors learn more ContributionsTalk Contents move to sidebar hide Top Historic events in the th century Toggle Historic events in the th century subsection World at the beginning of the century The war to end all wars World War I Spanish flu Russian Rev\n"
     ]
    }
   ],
   "source": [
    "import re\n",
    "\n",
    "# Make a working copy\n",
    "clean_text = data\n",
    "\n",
    "# Remove menu/navigation words\n",
    "clean_text = re.sub(r'(Jump to content|Main menu|Navigation|Create account|Log in|Donate|Search|Personal tools)', ' ', clean_text)\n",
    "\n",
    "# Remove bracketed references like [1], [2], etc.\n",
    "clean_text = re.sub(r'\\[.*?\\]', ' ', clean_text)\n",
    "\n",
    "# Remove non-letter characters (numbers, punctuation, symbols)\n",
    "clean_text = re.sub(r'[^A-Za-z\\s]', ' ', clean_text)\n",
    "\n",
    "# Collapse multiple spaces\n",
    "clean_text = re.sub(r'\\s+', ' ', clean_text).strip()\n",
    "\n",
    "print(clean_text[:500])\n"
   ]
  },
  {
   "cell_type": "code",
   "execution_count": 4,
   "id": "3563f39b",
   "metadata": {},
   "outputs": [
    {
     "ename": "NameError",
     "evalue": "name 'nlp' is not defined",
     "output_type": "error",
     "traceback": [
      "\u001b[31m---------------------------------------------------------------------------\u001b[39m",
      "\u001b[31mNameError\u001b[39m                                 Traceback (most recent call last)",
      "\u001b[36mCell\u001b[39m\u001b[36m \u001b[39m\u001b[32mIn[4]\u001b[39m\u001b[32m, line 1\u001b[39m\n\u001b[32m----> \u001b[39m\u001b[32m1\u001b[39m doc = \u001b[43mnlp\u001b[49m(data)\n",
      "\u001b[31mNameError\u001b[39m: name 'nlp' is not defined"
     ]
    }
   ],
   "source": [
    "doc = nlp(data)\n"
   ]
  },
  {
   "cell_type": "code",
   "execution_count": 5,
   "id": "352ac481",
   "metadata": {},
   "outputs": [],
   "source": [
    "import spacy\n",
    "\n",
    "# Load the English language model\n",
    "nlp = spacy.load(\"en_core_web_sm\")\n"
   ]
  },
  {
   "cell_type": "code",
   "execution_count": 6,
   "id": "0196d475",
   "metadata": {},
   "outputs": [],
   "source": [
    "doc = nlp(clean_text)\n"
   ]
  },
  {
   "cell_type": "code",
   "execution_count": 7,
   "id": "99096c57",
   "metadata": {},
   "outputs": [
    {
     "name": "stdout",
     "output_type": "stream",
     "text": [
      "Wikipedia - ORG\n",
      "Appearance Pages - ORG\n",
      "ContributionsTalk Contents - PRODUCT\n",
      "Top Historic - PERSON\n",
      "Toggle Historic - PERSON\n",
      "the th century - DATE\n",
      "the beginning of the century - DATE\n",
      "World War I - EVENT\n",
      "Spanish - NORP\n",
      "Russian Revolution - FAC\n",
      "Global war World War II - WORK_OF_ART\n",
      "Operation Overlord Final - FAC\n",
      "the Pacific Background Japanese Expansion - ORG\n",
      "The Holocaust The Nuclear Age - EVENT\n",
      "The Cold War War - EVENT\n"
     ]
    }
   ],
   "source": [
    "# Check a few entities detected\n",
    "for ent in list(doc.ents)[:15]:\n",
    "    print(ent.text, \"-\", ent.label_)\n"
   ]
  },
  {
   "cell_type": "code",
   "execution_count": 8,
   "id": "39dcde0e",
   "metadata": {},
   "outputs": [
    {
     "name": "stdout",
     "output_type": "stream",
     "text": [
      "Key events of the th century Wikipedia move to sidebar hide Main pageContentsCurrent eventsRandom articleAbout us Learn to editCommunity portalRecent changes Pages for logged out editors learn more ContributionsTalk Contents move to sidebar hide Top Historic events in the th century Toggle Historic events in the th century subsection World at the beginning of the century The war to end all wars World War I Spanish flu Russian Revolution and communism Between the wars Economic depression The rise\n"
     ]
    }
   ],
   "source": [
    "import re\n",
    "\n",
    "# Start from the raw scraped text\n",
    "clean_text = data\n",
    "\n",
    "# Remove HTML navigation/menu words and interface text\n",
    "patterns_to_remove = [\n",
    "    r'Jump to content', r'Main menu', r'Navigation', r'Create account',\n",
    "    r'Log in', r'Donate', r'Search', r'Personal tools', r'Appearance',\n",
    "    r'WikipediaContact', r'help', r'Contribute', r'Upload file', r'Special pages'\n",
    "]\n",
    "for p in patterns_to_remove:\n",
    "    clean_text = re.sub(p, ' ', clean_text, flags=re.IGNORECASE)\n",
    "\n",
    "# Remove any [bracketed references], numbers, and symbols\n",
    "clean_text = re.sub(r'\\[.*?\\]', ' ', clean_text)\n",
    "clean_text = re.sub(r'[^A-Za-z\\s]', ' ', clean_text)\n",
    "\n",
    "# Remove repeated whitespace\n",
    "clean_text = re.sub(r'\\s+', ' ', clean_text).strip()\n",
    "\n",
    "print(clean_text[:500])\n"
   ]
  },
  {
   "cell_type": "code",
   "execution_count": 9,
   "id": "d2eb2858",
   "metadata": {},
   "outputs": [
    {
     "name": "stdout",
     "output_type": "stream",
     "text": [
      "Key events of the th century Main page Current events About ContributionsTalk Historic events in the th century Historic events in the th century World at the beginning of the century The war to end all wars World War I Spanish flu Russian Revolution and communism Between the wars Economic depression The rise of dictatorship Global war World War II The war in Europe Blitzkrieg Operation Barbarossa Turning tides Operation Overlord Final days The war in the Pacific Background Japanese Expansion Allied offensive Final days The Holocaust The Nuclear Age begins The post war world The end of empires\n"
     ]
    }
   ],
   "source": [
    "import re\n",
    "\n",
    "clean_text = data\n",
    "\n",
    "# Remove common Wikipedia interface words and navigation clutter\n",
    "patterns_to_remove = [\n",
    "    r'Jump to content', r'Main menu', r'Navigation', r'Create account', r'Log in', r'Donate',\n",
    "    r'Search', r'Personal tools', r'Appearance', r'Wikipedia', r'Contact us', r'Learn to edit',\n",
    "    r'Community portal', r'Recent changes', r'Upload file', r'Special pages', r'logged out editors',\n",
    "    r'move to sidebar hide', r'Contents', r'Random article', r'About us', r'Help', r'Contribute',\n",
    "    r'Pages for', r'learn more', r'Top', r'Toggle', r'subsection'\n",
    "]\n",
    "\n",
    "for p in patterns_to_remove:\n",
    "    clean_text = re.sub(p, ' ', clean_text, flags=re.IGNORECASE)\n",
    "\n",
    "# Remove bracketed references like [1], [2], etc.\n",
    "clean_text = re.sub(r'\\[.*?\\]', ' ', clean_text)\n",
    "\n",
    "# Keep only letters and spaces\n",
    "clean_text = re.sub(r'[^A-Za-z\\s]', ' ', clean_text)\n",
    "\n",
    "# Replace multiple spaces with a single space\n",
    "clean_text = re.sub(r'\\s+', ' ', clean_text).strip()\n",
    "\n",
    "# Preview cleaned output\n",
    "print(clean_text[:600])\n"
   ]
  },
  {
   "cell_type": "code",
   "execution_count": 10,
   "id": "6f683772",
   "metadata": {},
   "outputs": [
    {
     "name": "stdout",
     "output_type": "stream",
     "text": [
      "the th century - DATE\n",
      "Historic - PERSON\n",
      "the th century - DATE\n",
      "the beginning of the century - DATE\n",
      "World War I - EVENT\n",
      "Spanish - NORP\n",
      "Russian Revolution - FAC\n",
      "Global war World War II - WORK_OF_ART\n",
      "Operation Overlord Final - FAC\n",
      "the Pacific Background Japanese Expansion - ORG\n",
      "The Holocaust The Nuclear Age - EVENT\n",
      "The Cold War War - EVENT\n",
      "the Cold War Information - EVENT\n",
      "the end of the century - DATE\n",
      "Key - NORP\n",
      "the th century - DATE\n",
      "English - LANGUAGE\n",
      "Tools Tools Actions - ORG\n",
      "URLDownload - ORG\n",
      "Download - GPE\n"
     ]
    }
   ],
   "source": [
    "doc = nlp(clean_text)\n",
    "\n",
    "# Check the first few detected entities\n",
    "for ent in list(doc.ents)[:20]:\n",
    "    print(ent.text, \"-\", ent.label_)\n"
   ]
  },
  {
   "cell_type": "code",
   "execution_count": 11,
   "id": "8804abf2",
   "metadata": {},
   "outputs": [],
   "source": [
    "import re\n",
    "\n",
    "clean_text = data\n",
    "\n",
    "# 1️⃣ Remove Wikipedia UI / navigation junk\n",
    "patterns_to_remove = [\n",
    "    r'Jump to content', r'Main menu', r'Navigation', r'Create account', r'Log in', r'Donate',\n",
    "    r'Search', r'Personal tools', r'Appearance', r'Wikipedia', r'Contact us', r'Help',\n",
    "    r'Learn to edit', r'Community portal', r'Recent changes', r'Upload file', r'Special pages',\n",
    "    r'Pages for', r'logged out editors', r'learn more', r'move to sidebar hide', r'ContributionsTalk',\n",
    "    r'Toggle', r'Top', r'Tools', r'Actions', r'URLDownload', r'Download', r'Article', r'Portal',\n",
    "    r'View history', r'Talk', r'Contents', r'print export', r'Languages', r'Page information'\n",
    "]\n",
    "\n",
    "for p in patterns_to_remove:\n",
    "    clean_text = re.sub(p, ' ', clean_text, flags=re.IGNORECASE)\n",
    "\n",
    "# 2️⃣ Remove bracketed references like [1], [2], etc.\n",
    "clean_text = re.sub(r'\\[.*?\\]', ' ', clean_text)\n",
    "\n",
    "# 3️⃣ Keep only letters and spaces\n",
    "clean_text = re.sub(r'[^A-Za-z\\s]', ' ', clean_text)\n",
    "\n",
    "# 4️⃣ Replace multiple spaces with a single\n"
   ]
  },
  {
   "cell_type": "code",
   "execution_count": 12,
   "id": "f3454680",
   "metadata": {},
   "outputs": [
    {
     "name": "stdout",
     "output_type": "stream",
     "text": [
      "century - DATE\n",
      "the   th century - DATE\n",
      "century - DATE\n",
      "the beginning of the century - DATE\n",
      "World War I                            - EVENT\n",
      "World War II - EVENT\n",
      "Europe - LOC\n",
      "days - DATE\n",
      "the Pacific               Background - ORG\n",
      "Japanese - NORP\n",
      "The Holocaust                The Nuclear Age - EVENT\n",
      "The Cold War                           War - EVENT\n",
      "the Cold War               Information - EVENT\n",
      "the end of the century             See - DATE\n",
      "century - DATE\n",
      "English - LANGUAGE\n",
      "PDFPrintable - ORG\n",
      "Wikimedia CommonsWikidata - ORG\n",
      "century - DATE\n",
      "The World Wars - WORK_OF_ART\n"
     ]
    }
   ],
   "source": [
    "doc = nlp(clean_text)\n",
    "\n",
    "for ent in list(doc.ents)[:20]:\n",
    "    print(ent.text, \"-\", ent.label_)\n"
   ]
  },
  {
   "cell_type": "code",
   "execution_count": 13,
   "id": "6487a4a1",
   "metadata": {},
   "outputs": [
    {
     "name": "stdout",
     "output_type": "stream",
     "text": [
      "Total filtered entities: 1665\n",
      "Sample: [('century', 'DATE'), ('the   th century', 'DATE'), ('century', 'DATE'), ('the beginning of the century', 'DATE'), ('World War I', 'EVENT'), ('World War II', 'EVENT'), ('Europe', 'LOC'), ('days', 'DATE'), ('the Pacific               Background', 'ORG'), ('Japanese', 'NORP'), ('The Holocaust                The Nuclear Age', 'EVENT'), ('The Cold War                           War', 'EVENT'), ('the Cold War               Information', 'EVENT'), ('the end of the century             See', 'DATE'), ('century', 'DATE'), ('PDFPrintable', 'ORG'), ('Wikimedia CommonsWikidata', 'ORG'), ('century', 'DATE'), ('the Cold War', 'EVENT'), ('the Space Race', 'ORG')]\n"
     ]
    }
   ],
   "source": [
    "# Keep only relevant entity types\n",
    "valid_labels = [\"GPE\", \"LOC\", \"EVENT\", \"NORP\", \"ORG\", \"DATE\"]\n",
    "\n",
    "filtered_ents = [(ent.text.strip(), ent.label_) for ent in doc.ents if ent.label_ in valid_labels]\n",
    "\n",
    "print(\"Total filtered entities:\", len(filtered_ents))\n",
    "print(\"Sample:\", filtered_ents[:20])\n"
   ]
  },
  {
   "cell_type": "code",
   "execution_count": 14,
   "id": "45dce34b",
   "metadata": {},
   "outputs": [
    {
     "name": "stdout",
     "output_type": "stream",
     "text": [
      "Sample countries: ['Sarajevo', 'Sarajevo', 'the British Empire', 'France', 'the Russian Empire', 'the German Empire', 'Russia', 'Germany', 'Russia', 'Germany', 'the Ottoman Empire', 'Ukraine', 'Germany', 'Germany', 'Yugoslavia', 'Czechoslovakia', 'Austro Hungarian Empire', 'the Soviet Union', 'the Soviet Union', 'Germany']\n",
      "Total GPE mentions: 443\n"
     ]
    }
   ],
   "source": [
    "# Extract all geopolitical entities (GPE)\n",
    "countries = [ent.text.strip() for ent in doc.ents if ent.label_ == \"GPE\"]\n",
    "\n",
    "print(\"Sample countries:\", countries[:20])\n",
    "print(\"Total GPE mentions:\", len(countries))\n"
   ]
  },
  {
   "cell_type": "code",
   "execution_count": 15,
   "id": "102ded2e",
   "metadata": {},
   "outputs": [],
   "source": [
    "relationships = []\n",
    "window = 5  # look at groups of 5 consecutive sentences\n",
    "\n",
    "sentences = list(doc.sents)\n",
    "\n",
    "for i in range(len(sentences) - window):\n",
    "    segment = sentences[i:i + window]\n",
    "    text_segment = ' '.join([sent.text for sent in segment])\n",
    "    segment_doc = nlp(text_segment)\n",
    "    gpes = [ent.text for ent in segment_doc.ents if ent.label_ in [\"GPE\", \"LOC\"]]\n",
    "    gpes = list(set(gpes))  # unique countries within this window\n",
    "    if len(gpes) > 1:\n",
    "        for a in gpes:\n",
    "            for b in gpes:\n",
    "                if a != b:\n",
    "                    relationships.append((a, b))\n"
   ]
  },
  {
   "cell_type": "code",
   "execution_count": 16,
   "id": "8f14371e",
   "metadata": {},
   "outputs": [
    {
     "data": {
      "text/html": [
       "<div>\n",
       "<style scoped>\n",
       "    .dataframe tbody tr th:only-of-type {\n",
       "        vertical-align: middle;\n",
       "    }\n",
       "\n",
       "    .dataframe tbody tr th {\n",
       "        vertical-align: top;\n",
       "    }\n",
       "\n",
       "    .dataframe thead th {\n",
       "        text-align: right;\n",
       "    }\n",
       "</style>\n",
       "<table border=\"1\" class=\"dataframe\">\n",
       "  <thead>\n",
       "    <tr style=\"text-align: right;\">\n",
       "      <th></th>\n",
       "      <th>source</th>\n",
       "      <th>target</th>\n",
       "      <th>value</th>\n",
       "    </tr>\n",
       "  </thead>\n",
       "  <tbody>\n",
       "    <tr>\n",
       "      <th>2829</th>\n",
       "      <td>Germany</td>\n",
       "      <td>the Soviet Union</td>\n",
       "      <td>32</td>\n",
       "    </tr>\n",
       "    <tr>\n",
       "      <th>2484</th>\n",
       "      <td>Europe</td>\n",
       "      <td>the Soviet Union</td>\n",
       "      <td>32</td>\n",
       "    </tr>\n",
       "    <tr>\n",
       "      <th>8740</th>\n",
       "      <td>the Soviet Union</td>\n",
       "      <td>Germany</td>\n",
       "      <td>32</td>\n",
       "    </tr>\n",
       "    <tr>\n",
       "      <th>8737</th>\n",
       "      <td>the Soviet Union</td>\n",
       "      <td>Europe</td>\n",
       "      <td>32</td>\n",
       "    </tr>\n",
       "    <tr>\n",
       "      <th>2732</th>\n",
       "      <td>Germany</td>\n",
       "      <td>France</td>\n",
       "      <td>30</td>\n",
       "    </tr>\n",
       "    <tr>\n",
       "      <th>962</th>\n",
       "      <td>Britain</td>\n",
       "      <td>Germany</td>\n",
       "      <td>30</td>\n",
       "    </tr>\n",
       "    <tr>\n",
       "      <th>2618</th>\n",
       "      <td>France</td>\n",
       "      <td>Germany</td>\n",
       "      <td>30</td>\n",
       "    </tr>\n",
       "    <tr>\n",
       "      <th>2713</th>\n",
       "      <td>Germany</td>\n",
       "      <td>Britain</td>\n",
       "      <td>30</td>\n",
       "    </tr>\n",
       "    <tr>\n",
       "      <th>8998</th>\n",
       "      <td>the United States</td>\n",
       "      <td>Germany</td>\n",
       "      <td>29</td>\n",
       "    </tr>\n",
       "    <tr>\n",
       "      <th>3681</th>\n",
       "      <td>Italy</td>\n",
       "      <td>Germany</td>\n",
       "      <td>29</td>\n",
       "    </tr>\n",
       "  </tbody>\n",
       "</table>\n",
       "</div>"
      ],
      "text/plain": [
       "                 source            target  value\n",
       "2829            Germany  the Soviet Union     32\n",
       "2484             Europe  the Soviet Union     32\n",
       "8740   the Soviet Union           Germany     32\n",
       "8737   the Soviet Union            Europe     32\n",
       "2732            Germany            France     30\n",
       "962             Britain           Germany     30\n",
       "2618             France           Germany     30\n",
       "2713            Germany           Britain     30\n",
       "8998  the United States           Germany     29\n",
       "3681              Italy           Germany     29"
      ]
     },
     "execution_count": 16,
     "metadata": {},
     "output_type": "execute_result"
    }
   ],
   "source": [
    "import pandas as pd\n",
    "\n",
    "relationship_df = pd.DataFrame(relationships, columns=[\"source\", \"target\"])\n",
    "relationship_df[\"value\"] = 1\n",
    "relationship_df = (\n",
    "    relationship_df.groupby([\"source\", \"target\"], as_index=False)[\"value\"].sum()\n",
    "    .sort_values(\"value\", ascending=False)\n",
    ")\n",
    "\n",
    "relationship_df.head(10)\n"
   ]
  },
  {
   "cell_type": "code",
   "execution_count": 17,
   "id": "8066d0ad",
   "metadata": {},
   "outputs": [
    {
     "name": "stdout",
     "output_type": "stream",
     "text": [
      "Saved: ../Data/relationships_countries_20th_century.csv\n"
     ]
    }
   ],
   "source": [
    "output_path = \"../Data/relationships_countries_20th_century.csv\"\n",
    "relationship_df.to_csv(output_path, index=False)\n",
    "print(\"Saved:\", output_path)\n"
   ]
  }
 ],
 "metadata": {
  "kernelspec": {
   "display_name": "20th_century",
   "language": "python",
   "name": "python3"
  },
  "language_info": {
   "codemirror_mode": {
    "name": "ipython",
    "version": 3
   },
   "file_extension": ".py",
   "mimetype": "text/x-python",
   "name": "python",
   "nbconvert_exporter": "python",
   "pygments_lexer": "ipython3",
   "version": "3.13.7"
  }
 },
 "nbformat": 4,
 "nbformat_minor": 5
}
