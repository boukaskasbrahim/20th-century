{
 "cells": [
  {
   "cell_type": "code",
   "execution_count": null,
   "id": "d97699c9",
   "metadata": {},
   "outputs": [],
   "source": [
    "import pandas as pd"
   ]
  },
  {
   "cell_type": "code",
   "execution_count": 3,
   "id": "828002eb",
   "metadata": {},
   "outputs": [],
   "source": [
    "data = pd.DataFrame({\"Name\": ['Aragorn', 'Boromir', 'Frodo','Galadriel'],\n",
    "                     \"Race\": [\"human\", \"human\", \"hobbit\", \"elf\"],\n",
    "                     \"Age\": [88,41,51,8382]})\n",
    "                    "
   ]
  },
  {
   "cell_type": "code",
   "execution_count": 4,
   "id": "a133a391",
   "metadata": {},
   "outputs": [],
   "source": [
    "data.to_csv(\"../Data/data.csv\", index=False)"
   ]
  },
  {
   "cell_type": "code",
   "execution_count": 4,
   "id": "48ac3f1e",
   "metadata": {},
   "outputs": [],
   "source": [
    "import pandas as pd\n",
    "\n",
    "data = pd.DataFrame({\n",
    "    \"Name\": ['Aragorn', 'Boromir', 'Frodo', 'Galadriel'],\n",
    "    \"Race\": [\"human\", \"human\", \"hobbit\", \"elf\"],\n",
    "    \"Age\": [88, 41, 51, 8382]\n",
    "})"
   ]
  },
  {
   "cell_type": "code",
   "execution_count": 5,
   "id": "93378e4d",
   "metadata": {},
   "outputs": [
    {
     "name": "stdout",
     "output_type": "stream",
     "text": [
      "        Name    Race   Age  Age_plus_10\n",
      "0    Aragorn   human    88           98\n",
      "1    Boromir   human    41           51\n",
      "2      Frodo  hobbit    51           61\n",
      "3  Galadriel     elf  8382         8392\n"
     ]
    }
   ],
   "source": [
    "data['Age_plus_10'] = data['Age'].apply(lambda x: x + 10)\n",
    "print(data)\n"
   ]
  },
  {
   "cell_type": "code",
   "execution_count": 9,
   "id": "8185240b",
   "metadata": {},
   "outputs": [
    {
     "name": "stdout",
     "output_type": "stream",
     "text": [
      "        Name    Race   Age  Age_plus_10  Is_Human\n",
      "0    Aragorn   human    88           98      True\n",
      "1    Boromir   human    41           51      True\n",
      "2      Frodo  hobbit    51           61     False\n",
      "3  Galadriel     elf  8382         8392     False\n"
     ]
    }
   ],
   "source": [
    "data['Is_Human'] = data['Race'].apply(lambda x: True if x == 'human' else False)\n",
    "print(data)"
   ]
  }
 ],
 "metadata": {
  "kernelspec": {
   "display_name": "vnv_1.3",
   "language": "python",
   "name": "python3"
  },
  "language_info": {
   "codemirror_mode": {
    "name": "ipython",
    "version": 3
   },
   "file_extension": ".py",
   "mimetype": "text/x-python",
   "name": "python",
   "nbconvert_exporter": "python",
   "pygments_lexer": "ipython3",
   "version": "3.13.7"
  }
 },
 "nbformat": 4,
 "nbformat_minor": 5
}
